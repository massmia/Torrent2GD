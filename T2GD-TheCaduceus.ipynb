{
  "nbformat": 4,
  "nbformat_minor": 0,
  "metadata": {
    "colab": {
      "name": "COLAB (torrent to google drive).ipynb",
      "provenance": [],
      "collapsed_sections": []
    },
    "kernelspec": {
      "name": "python3",
      "display_name": "Python 3"
    },
    "language_info": {
      "name": "python"
    }
  },
  "cells": [
    {
      "cell_type": "markdown",
      "metadata": {
        "id": "9XE_zHG4jzXn"
      },
      "source": [
        "**Important Note:** To get more disk space:\n",
        "> Go to Runtime -> Change Runtime and give GPU as the Hardware Accelerator.  You will get around 384GB to download any torrent you want."
      ]
    },
    {
      "cell_type": "code",
      "metadata": {
        "id": "yIGiiJQUjjmn",
        "cellView": "form"
      },
      "source": [
        "#@markdown <br><center><img src='https://github.com/TheCaduceus/Torrent-to-GoogleDrive/blob/main/Img/80.png?raw=true' height=\"50\">\n",
        "#@markdown <center><h3>Setup Environment & Download Setup Files</h3></center>\n",
        "!python -m pip install --upgrade pip setuptools wheel\n",
        "!python -m pip install lbry-libtorrent\n",
        "\n",
        "!apt install python3-libtorrent\n",
        "\n",
        "import libtorrent as lt\n",
        "\n",
        "ses = lt.session()\n",
        "ses.listen_on(6881, 6891)\n",
        "downloads = []"
      ],
      "execution_count": null,
      "outputs": []
    },
    {
      "cell_type": "markdown",
      "source": [
        "**Google Colab Timeout Preventer! Run this Code to prevent TIMEOUT in Google Colab.Before running any code run this!**"
      ],
      "metadata": {
        "id": "w4FT9sbNY0wB"
      }
    },
    {
      "cell_type": "code",
      "source": [
        "#@markdown <br><center><img src='https://miro.medium.com/max/2036/1*GW4cqNv-SIQ9BGGhssL1bQ.png' height=\"100\" alt=\"netdata\"/></center>\n",
        "#@title <center>Time Out Preventer (Advanced) </center></strong>\n",
        "%%capture\n",
        "AUTO_RECONNECT = True #@param {type:\"boolean\"}\n",
        "#@markdown **Run this code to prevent NOTEBOOK from Timeout**\n",
        "from os import makedirs\n",
        "makedirs(\"/root/.config/rclone\", exist_ok = True)\n",
        "if AUTO_RECONNECT:\n",
        "  import IPython\n",
        "  from google.colab import output\n",
        "\n",
        "  display(IPython.display.Javascript('''\n",
        "  function ClickConnect(){\n",
        "    btn = document.querySelector(\"colab-connect-button\")\n",
        "    if (btn != null){\n",
        "      console.log(\"Click colab-connect-button\"); \n",
        "      btn.click() \n",
        "      }\n",
        "    \n",
        "    btn = document.getElementById('ok')\n",
        "    if (btn != null){\n",
        "      console.log(\"Click reconnect\"); \n",
        "      btn.click() \n",
        "      }\n",
        "    }\n",
        "    \n",
        "  setInterval(ClickConnect,60000)\n",
        "  '''))"
      ],
      "metadata": {
        "cellView": "form",
        "id": "mpWJsoViXUFA"
      },
      "execution_count": null,
      "outputs": []
    },
    {
      "cell_type": "markdown",
      "source": [
        "**Connect Your Google Account:**"
      ],
      "metadata": {
        "id": "nndtuRYPyYT7"
      }
    },
    {
      "cell_type": "code",
      "metadata": {
        "id": "X-rr26MmkDE6",
        "cellView": "form"
      },
      "source": [
        "#@markdown <br><center><img src=\"https://upload.wikimedia.org/wikipedia/commons/thumb/d/da/Google_Drive_logo.png/600px-Google_Drive_logo.png\" height=\"50\" alt=\"Gdrive-logo' \"/></center>\n",
        "#@markdown <center><h3>Connect to Google Account</h3></center><br>\n",
        "MODE = \"MOUNT\" #@param [\"MOUNT\", \"UNMOUNT\"]\n",
        "#Mount your Gdrive! \n",
        "from google.colab import drive\n",
        "drive.mount._DEBUG = False\n",
        "if MODE == \"MOUNT\":\n",
        "  drive.mount('/gdrive', force_remount=True)\n",
        "elif MODE == \"UNMOUNT\":\n",
        "  try:\n",
        "    drive.flush_and_unmount()\n",
        "  except ValueError:\n",
        "    pass\n",
        "  get_ipython().system_raw(\"rm -rf /root/.config/Google/DriveFS\")"
      ],
      "execution_count": null,
      "outputs": []
    },
    {
      "cell_type": "markdown",
      "source": [
        "**Check from which speed Google Will transfer your Files: (Optional)**"
      ],
      "metadata": {
        "id": "ryDxsF2RaCdh"
      }
    },
    {
      "cell_type": "code",
      "source": [
        "#@markdown <br><center><img src='https://github.com/TheCaduceus/Google-Drive-Cloner/blob/main/Img/st.jpeg?raw=true' height=\"50\" alt=\"ST-logo\"/></center>\n",
        "#@markdown <center><h3>Check Transfer Speed!</h3></center><br>\n",
        "!curl -s https://raw.githubusercontent.com/sivel/speedtest-cli/master/speedtest.py | python"
      ],
      "metadata": {
        "cellView": "form",
        "id": "1pmsUrTnaA8b"
      },
      "execution_count": null,
      "outputs": []
    },
    {
      "cell_type": "markdown",
      "source": [
        "**For Downloading Torrent to My Drive: (Choose anyone option!)**"
      ],
      "metadata": {
        "id": "nvQnGoDny0OZ"
      }
    },
    {
      "cell_type": "markdown",
      "source": [
        "**Upload (.Torrent) file to continue: (Run Code to get option to upload file.)**"
      ],
      "metadata": {
        "id": "tEdJU5ga4Kai"
      }
    },
    {
      "cell_type": "code",
      "metadata": {
        "id": "9SdZSEQSkM3h",
        "cellView": "form"
      },
      "source": [
        "#@markdown <br><center><img src=\"https://www.wpkube.com/wp-content/uploads/2018/02/ftp-upload.jpg\" height=\"200\" alt=\"Gdrive-logo' \"/></center>\n",
        "#@markdown <center><h3>Upload (.Torrent) File</h3></center><br>\n",
        "\n",
        "from google.colab import drive\n",
        "drive.mount('/content/drive')\n",
        "\n",
        "from google.colab import files\n",
        "\n",
        "source = files.upload()\n",
        "params = {\n",
        "    \"save_path\": \"/content/drive/My Drive/Torrent\",\n",
        "    \"ti\": lt.torrent_info(list(source.keys())[0]),\n",
        "}\n",
        "downloads.append(ses.add_torrent(params))"
      ],
      "execution_count": null,
      "outputs": []
    },
    {
      "cell_type": "markdown",
      "source": [
        "**Or, Enter Magnet Link to continue: (Run Code to get option to Enter link.)**"
      ],
      "metadata": {
        "id": "vg5BQLRh4aId"
      }
    },
    {
      "cell_type": "code",
      "metadata": {
        "id": "_PROFBfIkSCB",
        "cellView": "form"
      },
      "source": [
        "#@markdown <br><center><img src=\"https://cdn.setapp.com/blog/images/how-to-fix-copy-and-paste-not-working-1920-646.png\" height=\"200\" alt=\"Gdrive-logo' \"/></center>\n",
        "#@markdown <center><h3>Enter Magnet Link</h3></center><br>\n",
        "\n",
        "params = {\"save_path\": \"/content/drive/My Drive/Torrent\"}\n",
        "\n",
        "while True:\n",
        "    magnet_link = input(\"Enter Magnet Link Or Type Exit: \")\n",
        "    if magnet_link.lower() == \"exit\":\n",
        "        break\n",
        "    downloads.append(\n",
        "        lt.add_magnet_uri(ses, magnet_link, params)\n",
        "    )\n",
        "    "
      ],
      "execution_count": null,
      "outputs": []
    },
    {
      "cell_type": "markdown",
      "source": [
        "**For Downloading Torrent to Shared Drive: Run the following code to get the NAMES of all Shared Drive and copy the NAME of shared drive without (' ')in which you want to download Torrent**"
      ],
      "metadata": {
        "id": "qdlTybVpfYMk"
      }
    },
    {
      "cell_type": "code",
      "source": [
        "#@markdown <br><center><img src='https://upload.wikimedia.org/wikipedia/commons/thumb/d/da/Google_Drive_logo.png/600px-Google_Drive_logo.png' height=\"50\" alt=\"Gdrive-logo\"/></center>\n",
        "#@markdown <center><h3>Show Name of Shared Drives</h3></center><br>\n",
        "!ls '/gdrive/Shared drives/'"
      ],
      "metadata": {
        "cellView": "form",
        "id": "DhXHm1p-fWyY"
      },
      "execution_count": null,
      "outputs": []
    },
    {
      "cell_type": "markdown",
      "source": [
        "**For Downloading Torrent to Shared Drive: (Choose anyone option!)**"
      ],
      "metadata": {
        "id": "mpoiebyG5hIj"
      }
    },
    {
      "cell_type": "markdown",
      "source": [
        "**Path for Shared Drive:Replace the \"SHARED DRIVE NAME\" with the Shared Drive name (Paste name which you copied from above!) in which you want to Download Torrent and copy the complete path.**"
      ],
      "metadata": {
        "id": "AEejEI3lBxP3"
      }
    },
    {
      "cell_type": "code",
      "source": [
        "#@markdown <br><center><img src='https://upload.wikimedia.org/wikipedia/commons/thumb/d/da/Google_Drive_logo.png/600px-Google_Drive_logo.png' height=\"50\" alt=\"netdata\"/></center>\n",
        "#@markdown <center><h2>Path For Shared Drive</h2></center><br>\n",
        "SharedDrive_PATH = \"/gdrive/Shared drives/SHARED DRIVE NAME/Torrent\" #@param {type:\"string\"}"
      ],
      "metadata": {
        "cellView": "form",
        "id": "6GqOrqtFVI-1"
      },
      "execution_count": null,
      "outputs": []
    },
    {
      "cell_type": "markdown",
      "source": [
        "**Upload (.Torrent) file to continue:First Click \"Show Code\" and Enter PATH at place of \"PATH HERE\" and Run Code to get option to upload file.**"
      ],
      "metadata": {
        "id": "5WmgVRDBAgCk"
      }
    },
    {
      "cell_type": "code",
      "source": [
        "#@markdown <br><center><img src=\"https://www.wpkube.com/wp-content/uploads/2018/02/ftp-upload.jpg\" height=\"200\" alt=\"Gdrive-logo' \"/></center>\n",
        "#@markdown <center><h3>Upload (.Torrent) File</h3></center><br>\n",
        "\n",
        "from google.colab import drive\n",
        "drive.mount('/gdrive',force_remount=True)\n",
        "\n",
        "from google.colab import files\n",
        "\n",
        "source = files.upload()\n",
        "params = {\n",
        "    \"save_path\": \"PATH HERE\",\n",
        "    \"ti\": lt.torrent_info(list(source.keys())[0]),\n",
        "}\n",
        "downloads.append(ses.add_torrent(params))"
      ],
      "metadata": {
        "cellView": "form",
        "id": "xWLsQ6Fu6-pR"
      },
      "execution_count": null,
      "outputs": []
    },
    {
      "cell_type": "markdown",
      "source": [
        "**Or, Enter Magnet Link to continue:First Click \"Show Code\" and Enter PATH at place of \"PATH HERE\" then Run Code to get option to Enter link.)**"
      ],
      "metadata": {
        "id": "hF_G1SRMBDzV"
      }
    },
    {
      "cell_type": "code",
      "source": [
        "#@markdown <br><center><img src=\"https://cdn.setapp.com/blog/images/how-to-fix-copy-and-paste-not-working-1920-646.png\" height=\"200\" alt=\"Gdrive-logo' \"/></center>\n",
        "#@markdown <center><h3>Enter Magnet Link</h3></center><br>\n",
        "\n",
        "params = {\"save_path\": \"PATH HERE\"}\n",
        "\n",
        "while True:\n",
        "    magnet_link = input(\"Enter Magnet Link Or Type Exit: \")\n",
        "    if magnet_link.lower() == \"exit\":\n",
        "        break\n",
        "    downloads.append(\n",
        "        lt.add_magnet_uri(ses, magnet_link, params)\n",
        "    )"
      ],
      "metadata": {
        "cellView": "form",
        "id": "WQFSrrJ__1_M"
      },
      "execution_count": null,
      "outputs": []
    },
    {
      "cell_type": "markdown",
      "source": [
        "**Finally! After completeing above steps, Run the following code to start the download:**"
      ],
      "metadata": {
        "id": "1QOm8nQIXFSt"
      }
    },
    {
      "cell_type": "code",
      "metadata": {
        "id": "33_Y7nsskXeF",
        "cellView": "form"
      },
      "source": [
        "#@markdown <br><center><img src=\"https://www.bollyinside.com/articles/wp-content/uploads/sites/4/2022/01/How-To-Download-Torrents-to-Google-Drive-Directly.jpg\" height=\"200\" alt=\"Gdrive-logo' \"/></center>\n",
        "#@markdown <center><h3>Start Download to Google Drive</h3></center><br>\n",
        "import time\n",
        "from IPython.display import display\n",
        "import ipywidgets as widgets\n",
        "\n",
        "state_str = [\n",
        "    \"queued\",\n",
        "    \"checking\",\n",
        "    \"downloading metadata\",\n",
        "    \"downloading\",\n",
        "    \"finished\",\n",
        "    \"seeding\",\n",
        "    \"allocating\",\n",
        "    \"checking fastresume\",\n",
        "]\n",
        "\n",
        "layout = widgets.Layout(width=\"auto\")\n",
        "style = {\"description_width\": \"initial\"}\n",
        "download_bars = [\n",
        "    widgets.FloatSlider(\n",
        "        step=0.01, disabled=True, layout=layout, style=style\n",
        "    )\n",
        "    for _ in downloads\n",
        "]\n",
        "display(*download_bars)\n",
        "\n",
        "while downloads:\n",
        "    next_shift = 0\n",
        "    for index, download in enumerate(downloads[:]):\n",
        "        bar = download_bars[index + next_shift]\n",
        "        if not download.is_seed():\n",
        "            s = download.status()\n",
        "\n",
        "            bar.description = \" \".join(\n",
        "                [\n",
        "                    download.name(),\n",
        "                    str(s.download_rate / 1000),\n",
        "                    \"kB/s\",\n",
        "                    state_str[s.state],\n",
        "                ]\n",
        "            )\n",
        "            bar.value = s.progress * 100\n",
        "        else:\n",
        "            next_shift -= 1\n",
        "            ses.remove_torrent(download)\n",
        "            downloads.remove(download)\n",
        "            bar.close() # Seems to be not working in Colab (see https://github.com/googlecolab/colabtools/issues/726#issue-486731758)\n",
        "            download_bars.remove(bar)\n",
        "            print(download.name(), \"complete\")\n",
        "    time.sleep(1)"
      ],
      "execution_count": null,
      "outputs": []
    }
  ]
}